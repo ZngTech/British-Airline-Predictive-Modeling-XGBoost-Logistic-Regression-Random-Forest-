{
 "cells": [
  {
   "cell_type": "code",
   "execution_count": 4,
   "id": "d5b45f60",
   "metadata": {},
   "outputs": [],
   "source": [
    "## Data Cleaning\n",
    "#imports\n",
    "\n",
    "import pandas as pd\n",
    "import matplotlib.pyplot as plt\n",
    "import seaborn as sns\n",
    "import os\n",
    "\n",
    "#The \"os\" module allows Python programs to access the file system, \n",
    "#perform file operations, and obtain information about the system environment.\n",
    "\n",
    "#regex\n",
    "#In Python, import re is a statement that allows you to use the \"re\" module,\n",
    "#which provides support for regular expressions (also known as regex).\n",
    "\n",
    "import re"
   ]
  },
  {
   "cell_type": "code",
   "execution_count": 3,
   "id": "dee18c63",
   "metadata": {},
   "outputs": [],
   "source": [
    "#create a dataframe from csv file\n",
    "\n",
    "cwd = os.getcwd()\n",
    "\n",
    "df = pd.read_csv(cwd+\"/BA_reviews.csv\", index_col=0)\n"
   ]
  },
  {
   "cell_type": "code",
   "execution_count": 114,
   "id": "884e3c3a",
   "metadata": {},
   "outputs": [
    {
     "data": {
      "text/html": [
       "<div>\n",
       "<style scoped>\n",
       "    .dataframe tbody tr th:only-of-type {\n",
       "        vertical-align: middle;\n",
       "    }\n",
       "\n",
       "    .dataframe tbody tr th {\n",
       "        vertical-align: top;\n",
       "    }\n",
       "\n",
       "    .dataframe thead th {\n",
       "        text-align: right;\n",
       "    }\n",
       "</style>\n",
       "<table border=\"1\" class=\"dataframe\">\n",
       "  <thead>\n",
       "    <tr style=\"text-align: right;\">\n",
       "      <th></th>\n",
       "      <th>reviews</th>\n",
       "      <th>stars</th>\n",
       "      <th>date</th>\n",
       "      <th>country</th>\n",
       "    </tr>\n",
       "  </thead>\n",
       "  <tbody>\n",
       "    <tr>\n",
       "      <th>0</th>\n",
       "      <td>✅ Trip Verified | This was my first time flyin...</td>\n",
       "      <td>1</td>\n",
       "      <td>28th January 2023</td>\n",
       "      <td>United Kingdom</td>\n",
       "    </tr>\n",
       "    <tr>\n",
       "      <th>1</th>\n",
       "      <td>✅ Trip Verified |  Lots of cancellations and d...</td>\n",
       "      <td>9</td>\n",
       "      <td>24th January 2023</td>\n",
       "      <td>Canada</td>\n",
       "    </tr>\n",
       "    <tr>\n",
       "      <th>2</th>\n",
       "      <td>✅ Trip Verified | BA 242 on the 6/2/23. Boardi...</td>\n",
       "      <td>10</td>\n",
       "      <td>24th January 2023</td>\n",
       "      <td>United Kingdom</td>\n",
       "    </tr>\n",
       "    <tr>\n",
       "      <th>3</th>\n",
       "      <td>✅ Trip Verified |  Not only my first flight in...</td>\n",
       "      <td>10</td>\n",
       "      <td>23rd January 2023</td>\n",
       "      <td>Spain</td>\n",
       "    </tr>\n",
       "    <tr>\n",
       "      <th>4</th>\n",
       "      <td>✅ Trip Verified |  My husband and myself were ...</td>\n",
       "      <td>10</td>\n",
       "      <td>21st January 2023</td>\n",
       "      <td>United Kingdom</td>\n",
       "    </tr>\n",
       "  </tbody>\n",
       "</table>\n",
       "</div>"
      ],
      "text/plain": [
       "                                             reviews stars               date  \\\n",
       "0  ✅ Trip Verified | This was my first time flyin...     1  28th January 2023   \n",
       "1  ✅ Trip Verified |  Lots of cancellations and d...     9  24th January 2023   \n",
       "2  ✅ Trip Verified | BA 242 on the 6/2/23. Boardi...    10  24th January 2023   \n",
       "3  ✅ Trip Verified |  Not only my first flight in...    10  23rd January 2023   \n",
       "4  ✅ Trip Verified |  My husband and myself were ...    10  21st January 2023   \n",
       "\n",
       "          country  \n",
       "0  United Kingdom  \n",
       "1          Canada  \n",
       "2  United Kingdom  \n",
       "3           Spain  \n",
       "4  United Kingdom  "
      ]
     },
     "execution_count": 114,
     "metadata": {},
     "output_type": "execute_result"
    }
   ],
   "source": [
    "df.head()"
   ]
  },
  {
   "cell_type": "code",
   "execution_count": 115,
   "id": "1f0d467b",
   "metadata": {},
   "outputs": [],
   "source": [
    "df['verified'] = df.reviews.str.contains(\"Trip Verified\")"
   ]
  },
  {
   "cell_type": "code",
   "execution_count": 116,
   "id": "73d0e3d1",
   "metadata": {},
   "outputs": [
    {
     "data": {
      "text/plain": [
       "0        True\n",
       "1        True\n",
       "2        True\n",
       "3        True\n",
       "4        True\n",
       "        ...  \n",
       "3466    False\n",
       "3467    False\n",
       "3468    False\n",
       "3469    False\n",
       "3470    False\n",
       "Name: verified, Length: 3471, dtype: bool"
      ]
     },
     "execution_count": 116,
     "metadata": {},
     "output_type": "execute_result"
    }
   ],
   "source": [
    "df['verified']\n"
   ]
  },
  {
   "cell_type": "code",
   "execution_count": 5,
   "id": "e82c6153",
   "metadata": {},
   "outputs": [],
   "source": [
    "#for lemmatization of words we will use nltk library\n",
    "from nltk.stem import WordNetLemmatizer\n",
    "from nltk.corpus import stopwords\n",
    "lemma = WordNetLemmatizer()\n",
    "\n",
    "\n",
    "reviews_data = df.reviews.str.strip(\"✅ Trip Verified |\")\n",
    "\n",
    "#create an empty list to collect cleaned data corpus\n",
    "corpus =[]\n",
    "\n",
    "#loop through each review, remove punctuations, small case it, join it and add it to corpus\n",
    "for rev in reviews_data:\n",
    "    rev = re.sub('[^a-zA-Z]',' ', rev)\n",
    "    rev = rev.lower()\n",
    "    rev = rev.split()\n",
    "    rev = [lemma.lemmatize(word) for word in rev if word not in set(stopwords.words(\"english\"))]\n",
    "    rev = \" \".join(rev)\n",
    "    corpus.append(rev)"
   ]
  },
  {
   "cell_type": "code",
   "execution_count": 39,
   "id": "9e034840",
   "metadata": {},
   "outputs": [
    {
     "data": {
      "text/html": [
       "<div>\n",
       "<style scoped>\n",
       "    .dataframe tbody tr th:only-of-type {\n",
       "        vertical-align: middle;\n",
       "    }\n",
       "\n",
       "    .dataframe tbody tr th {\n",
       "        vertical-align: top;\n",
       "    }\n",
       "\n",
       "    .dataframe thead th {\n",
       "        text-align: right;\n",
       "    }\n",
       "</style>\n",
       "<table border=\"1\" class=\"dataframe\">\n",
       "  <thead>\n",
       "    <tr style=\"text-align: right;\">\n",
       "      <th></th>\n",
       "      <th>reviews</th>\n",
       "    </tr>\n",
       "  </thead>\n",
       "  <tbody>\n",
       "    <tr>\n",
       "      <th>0</th>\n",
       "      <td>✅ Trip Verified | This was my first time flyin...</td>\n",
       "    </tr>\n",
       "    <tr>\n",
       "      <th>1</th>\n",
       "      <td>✅ Trip Verified |  Lots of cancellations and d...</td>\n",
       "    </tr>\n",
       "    <tr>\n",
       "      <th>2</th>\n",
       "      <td>✅ Trip Verified | BA 242 on the 6/2/23. Boardi...</td>\n",
       "    </tr>\n",
       "    <tr>\n",
       "      <th>3</th>\n",
       "      <td>✅ Trip Verified |  Not only my first flight in...</td>\n",
       "    </tr>\n",
       "    <tr>\n",
       "      <th>4</th>\n",
       "      <td>✅ Trip Verified |  My husband and myself were ...</td>\n",
       "    </tr>\n",
       "  </tbody>\n",
       "</table>\n",
       "</div>"
      ],
      "text/plain": [
       "                                             reviews\n",
       "0  ✅ Trip Verified | This was my first time flyin...\n",
       "1  ✅ Trip Verified |  Lots of cancellations and d...\n",
       "2  ✅ Trip Verified | BA 242 on the 6/2/23. Boardi...\n",
       "3  ✅ Trip Verified |  Not only my first flight in...\n",
       "4  ✅ Trip Verified |  My husband and myself were ..."
      ]
     },
     "execution_count": 39,
     "metadata": {},
     "output_type": "execute_result"
    }
   ],
   "source": []
  },
  {
   "cell_type": "code",
   "execution_count": 75,
   "id": "daac1f68",
   "metadata": {},
   "outputs": [
    {
     "data": {
      "text/plain": [
       "0      True\n",
       "1      True\n",
       "2      True\n",
       "3      True\n",
       "4      True\n",
       "       ... \n",
       "995    True\n",
       "996    True\n",
       "997    True\n",
       "998    True\n",
       "999    True\n",
       "Name: verified, Length: 1000, dtype: bool"
      ]
     },
     "execution_count": 75,
     "metadata": {},
     "output_type": "execute_result"
    }
   ],
   "source": []
  },
  {
   "cell_type": "code",
   "execution_count": 79,
   "id": "4b263721",
   "metadata": {},
   "outputs": [
    {
     "name": "stderr",
     "output_type": "stream",
     "text": [
      "[nltk_data] Downloading package omw-1.4 to /Users/efz/nltk_data...\n"
     ]
    },
    {
     "data": {
      "text/plain": [
       "True"
      ]
     },
     "execution_count": 79,
     "metadata": {},
     "output_type": "execute_result"
    }
   ],
   "source": []
  },
  {
   "cell_type": "code",
   "execution_count": 118,
   "id": "f7da9407",
   "metadata": {},
   "outputs": [
    {
     "data": {
      "text/html": [
       "<div>\n",
       "<style scoped>\n",
       "    .dataframe tbody tr th:only-of-type {\n",
       "        vertical-align: middle;\n",
       "    }\n",
       "\n",
       "    .dataframe tbody tr th {\n",
       "        vertical-align: top;\n",
       "    }\n",
       "\n",
       "    .dataframe thead th {\n",
       "        text-align: right;\n",
       "    }\n",
       "</style>\n",
       "<table border=\"1\" class=\"dataframe\">\n",
       "  <thead>\n",
       "    <tr style=\"text-align: right;\">\n",
       "      <th></th>\n",
       "      <th>reviews</th>\n",
       "      <th>stars</th>\n",
       "      <th>date</th>\n",
       "      <th>country</th>\n",
       "      <th>verified</th>\n",
       "      <th>corpus</th>\n",
       "    </tr>\n",
       "  </thead>\n",
       "  <tbody>\n",
       "    <tr>\n",
       "      <th>0</th>\n",
       "      <td>✅ Trip Verified | This was my first time flyin...</td>\n",
       "      <td>1</td>\n",
       "      <td>28th January 2023</td>\n",
       "      <td>United Kingdom</td>\n",
       "      <td>True</td>\n",
       "      <td>first time flying ba pleasantly surprised isla...</td>\n",
       "    </tr>\n",
       "    <tr>\n",
       "      <th>1</th>\n",
       "      <td>✅ Trip Verified |  Lots of cancellations and d...</td>\n",
       "      <td>9</td>\n",
       "      <td>24th January 2023</td>\n",
       "      <td>Canada</td>\n",
       "      <td>True</td>\n",
       "      <td>lot cancellation delay one apologized edinburg...</td>\n",
       "    </tr>\n",
       "    <tr>\n",
       "      <th>2</th>\n",
       "      <td>✅ Trip Verified | BA 242 on the 6/2/23. Boardi...</td>\n",
       "      <td>10</td>\n",
       "      <td>24th January 2023</td>\n",
       "      <td>United Kingdom</td>\n",
       "      <td>True</td>\n",
       "      <td>ba boarding delayed due late arrival incoming ...</td>\n",
       "    </tr>\n",
       "    <tr>\n",
       "      <th>3</th>\n",
       "      <td>✅ Trip Verified |  Not only my first flight in...</td>\n",
       "      <td>10</td>\n",
       "      <td>23rd January 2023</td>\n",
       "      <td>Spain</td>\n",
       "      <td>True</td>\n",
       "      <td>first flight year also first time back england...</td>\n",
       "    </tr>\n",
       "    <tr>\n",
       "      <th>4</th>\n",
       "      <td>✅ Trip Verified |  My husband and myself were ...</td>\n",
       "      <td>10</td>\n",
       "      <td>21st January 2023</td>\n",
       "      <td>United Kingdom</td>\n",
       "      <td>True</td>\n",
       "      <td>husband flying madrid rd february legal matter...</td>\n",
       "    </tr>\n",
       "  </tbody>\n",
       "</table>\n",
       "</div>"
      ],
      "text/plain": [
       "                                             reviews stars               date  \\\n",
       "0  ✅ Trip Verified | This was my first time flyin...     1  28th January 2023   \n",
       "1  ✅ Trip Verified |  Lots of cancellations and d...     9  24th January 2023   \n",
       "2  ✅ Trip Verified | BA 242 on the 6/2/23. Boardi...    10  24th January 2023   \n",
       "3  ✅ Trip Verified |  Not only my first flight in...    10  23rd January 2023   \n",
       "4  ✅ Trip Verified |  My husband and myself were ...    10  21st January 2023   \n",
       "\n",
       "          country  verified                                             corpus  \n",
       "0  United Kingdom      True  first time flying ba pleasantly surprised isla...  \n",
       "1          Canada      True  lot cancellation delay one apologized edinburg...  \n",
       "2  United Kingdom      True  ba boarding delayed due late arrival incoming ...  \n",
       "3           Spain      True  first flight year also first time back england...  \n",
       "4  United Kingdom      True  husband flying madrid rd february legal matter...  "
      ]
     },
     "execution_count": 118,
     "metadata": {},
     "output_type": "execute_result"
    }
   ],
   "source": [
    "# add the corpus to the original dataframe\n",
    "\n",
    "df['corpus'] = corpus\n",
    "df.head()\n"
   ]
  },
  {
   "cell_type": "code",
   "execution_count": 119,
   "id": "80731deb",
   "metadata": {},
   "outputs": [
    {
     "data": {
      "text/plain": [
       "reviews     object\n",
       "stars       object\n",
       "date        object\n",
       "country     object\n",
       "verified      bool\n",
       "corpus      object\n",
       "dtype: object"
      ]
     },
     "execution_count": 119,
     "metadata": {},
     "output_type": "execute_result"
    }
   ],
   "source": [
    "# Cleaning and Format date\n",
    "df.dtypes"
   ]
  },
  {
   "cell_type": "code",
   "execution_count": 121,
   "id": "7e7b205c",
   "metadata": {},
   "outputs": [
    {
     "data": {
      "text/plain": [
       "0   2023-01-28\n",
       "1   2023-01-24\n",
       "2   2023-01-24\n",
       "3   2023-01-23\n",
       "4   2023-01-21\n",
       "Name: date, dtype: datetime64[ns]"
      ]
     },
     "execution_count": 121,
     "metadata": {},
     "output_type": "execute_result"
    }
   ],
   "source": [
    "# convert the date to datetime format\n",
    "\n",
    "df.date = pd.to_datetime(df.date)\n",
    "df.date.head()"
   ]
  },
  {
   "cell_type": "code",
   "execution_count": 122,
   "id": "0710f64a",
   "metadata": {},
   "outputs": [],
   "source": [
    "# Cleaning ratings with stars\n",
    "#check for unique values\n",
    "df.stars.unique()\n",
    "# remove the \\t and \\n from the ratings\n",
    "df.stars = df.stars.str.strip(\"\\n\\t\\t\\t\\t\\t\\t\\t\\t\\t\\t\\t\\t\\t\")\n"
   ]
  },
  {
   "cell_type": "code",
   "execution_count": 124,
   "id": "51849925",
   "metadata": {},
   "outputs": [
    {
     "data": {
      "text/plain": [
       "1       748\n",
       "2       390\n",
       "3       386\n",
       "8       350\n",
       "10      314\n",
       "7       302\n",
       "9       299\n",
       "5       260\n",
       "4       233\n",
       "6       184\n",
       "None      5\n",
       "Name: stars, dtype: int64"
      ]
     },
     "execution_count": 124,
     "metadata": {},
     "output_type": "execute_result"
    }
   ],
   "source": [
    "df.stars.value_counts()"
   ]
  },
  {
   "cell_type": "code",
   "execution_count": 125,
   "id": "9d408725",
   "metadata": {},
   "outputs": [],
   "source": [
    "# drop the rows where the value of ratings is None\n",
    "df.drop(df[df.stars == \"None\"].index, axis=0, inplace=True)\n"
   ]
  },
  {
   "cell_type": "code",
   "execution_count": 126,
   "id": "2aa958ce",
   "metadata": {},
   "outputs": [
    {
     "data": {
      "text/plain": [
       "array(['1', '9', '10', '2', '4', '3', '5', '8', '6', '7'], dtype=object)"
      ]
     },
     "execution_count": 126,
     "metadata": {},
     "output_type": "execute_result"
    }
   ],
   "source": [
    "#check the unique values again\n",
    "df.stars.unique()"
   ]
  },
  {
   "cell_type": "code",
   "execution_count": 127,
   "id": "137caf00",
   "metadata": {},
   "outputs": [
    {
     "data": {
      "text/plain": [
       "reviews  stars  date   country  verified  corpus\n",
       "False    False  False  False    False     False     3464\n",
       "                       True     False     False        2\n",
       "dtype: int64"
      ]
     },
     "execution_count": 127,
     "metadata": {},
     "output_type": "execute_result"
    }
   ],
   "source": [
    "# Check for Null Values\n",
    "df.isnull().value_counts()"
   ]
  },
  {
   "cell_type": "code",
   "execution_count": 128,
   "id": "2b1a38e1",
   "metadata": {},
   "outputs": [
    {
     "data": {
      "text/plain": [
       "False    3464\n",
       "True        2\n",
       "Name: country, dtype: int64"
      ]
     },
     "execution_count": 128,
     "metadata": {},
     "output_type": "execute_result"
    }
   ],
   "source": [
    "df.country.isnull().value_counts()"
   ]
  },
  {
   "cell_type": "code",
   "execution_count": 129,
   "id": "d772cdf8",
   "metadata": {},
   "outputs": [],
   "source": [
    "#drop the rows using index where the country value is null\n",
    "df.drop(df[df.country.isnull() == True].index, axis=0, inplace=True)"
   ]
  },
  {
   "cell_type": "code",
   "execution_count": 130,
   "id": "266e9645",
   "metadata": {
    "scrolled": true
   },
   "outputs": [
    {
     "data": {
      "text/plain": [
       "(3464, 6)"
      ]
     },
     "execution_count": 130,
     "metadata": {},
     "output_type": "execute_result"
    }
   ],
   "source": [
    "df.shape"
   ]
  },
  {
   "cell_type": "code",
   "execution_count": 109,
   "id": "acbe0eeb",
   "metadata": {},
   "outputs": [
    {
     "data": {
      "text/plain": [
       "(1000, 3)"
      ]
     },
     "execution_count": 109,
     "metadata": {},
     "output_type": "execute_result"
    }
   ],
   "source": [
    "df.shape"
   ]
  },
  {
   "cell_type": "code",
   "execution_count": 131,
   "id": "14529898",
   "metadata": {},
   "outputs": [
    {
     "data": {
      "text/html": [
       "<div>\n",
       "<style scoped>\n",
       "    .dataframe tbody tr th:only-of-type {\n",
       "        vertical-align: middle;\n",
       "    }\n",
       "\n",
       "    .dataframe tbody tr th {\n",
       "        vertical-align: top;\n",
       "    }\n",
       "\n",
       "    .dataframe thead th {\n",
       "        text-align: right;\n",
       "    }\n",
       "</style>\n",
       "<table border=\"1\" class=\"dataframe\">\n",
       "  <thead>\n",
       "    <tr style=\"text-align: right;\">\n",
       "      <th></th>\n",
       "      <th>reviews</th>\n",
       "      <th>stars</th>\n",
       "      <th>date</th>\n",
       "      <th>country</th>\n",
       "      <th>verified</th>\n",
       "      <th>corpus</th>\n",
       "    </tr>\n",
       "  </thead>\n",
       "  <tbody>\n",
       "    <tr>\n",
       "      <th>0</th>\n",
       "      <td>✅ Trip Verified | This was my first time flyin...</td>\n",
       "      <td>1</td>\n",
       "      <td>2023-01-28</td>\n",
       "      <td>United Kingdom</td>\n",
       "      <td>True</td>\n",
       "      <td>first time flying ba pleasantly surprised isla...</td>\n",
       "    </tr>\n",
       "    <tr>\n",
       "      <th>1</th>\n",
       "      <td>✅ Trip Verified |  Lots of cancellations and d...</td>\n",
       "      <td>9</td>\n",
       "      <td>2023-01-24</td>\n",
       "      <td>Canada</td>\n",
       "      <td>True</td>\n",
       "      <td>lot cancellation delay one apologized edinburg...</td>\n",
       "    </tr>\n",
       "    <tr>\n",
       "      <th>2</th>\n",
       "      <td>✅ Trip Verified | BA 242 on the 6/2/23. Boardi...</td>\n",
       "      <td>10</td>\n",
       "      <td>2023-01-24</td>\n",
       "      <td>United Kingdom</td>\n",
       "      <td>True</td>\n",
       "      <td>ba boarding delayed due late arrival incoming ...</td>\n",
       "    </tr>\n",
       "    <tr>\n",
       "      <th>3</th>\n",
       "      <td>✅ Trip Verified |  Not only my first flight in...</td>\n",
       "      <td>10</td>\n",
       "      <td>2023-01-23</td>\n",
       "      <td>Spain</td>\n",
       "      <td>True</td>\n",
       "      <td>first flight year also first time back england...</td>\n",
       "    </tr>\n",
       "    <tr>\n",
       "      <th>4</th>\n",
       "      <td>✅ Trip Verified |  My husband and myself were ...</td>\n",
       "      <td>10</td>\n",
       "      <td>2023-01-21</td>\n",
       "      <td>United Kingdom</td>\n",
       "      <td>True</td>\n",
       "      <td>husband flying madrid rd february legal matter...</td>\n",
       "    </tr>\n",
       "    <tr>\n",
       "      <th>...</th>\n",
       "      <td>...</td>\n",
       "      <td>...</td>\n",
       "      <td>...</td>\n",
       "      <td>...</td>\n",
       "      <td>...</td>\n",
       "      <td>...</td>\n",
       "    </tr>\n",
       "    <tr>\n",
       "      <th>3459</th>\n",
       "      <td>Business LHR to BKK. 747-400. First try back w...</td>\n",
       "      <td>7</td>\n",
       "      <td>2022-11-07</td>\n",
       "      <td>United Kingdom</td>\n",
       "      <td>False</td>\n",
       "      <td>business lhr bkk first try back ba year flown ...</td>\n",
       "    </tr>\n",
       "    <tr>\n",
       "      <th>3460</th>\n",
       "      <td>This was a bmi Regional operated flight on a R...</td>\n",
       "      <td>1</td>\n",
       "      <td>2022-11-05</td>\n",
       "      <td>United Kingdom</td>\n",
       "      <td>False</td>\n",
       "      <td>bmi regional operated flight rj manchester hea...</td>\n",
       "    </tr>\n",
       "    <tr>\n",
       "      <th>3461</th>\n",
       "      <td>LHR-HKG on Boeing 747 - 23/08/12. Much has bee...</td>\n",
       "      <td>10</td>\n",
       "      <td>2022-10-31</td>\n",
       "      <td>United Kingdom</td>\n",
       "      <td>False</td>\n",
       "      <td>lhr hkg boeing much written tired old fleet go...</td>\n",
       "    </tr>\n",
       "    <tr>\n",
       "      <th>3462</th>\n",
       "      <td>LHR to HAM. Purser addresses all club passenge...</td>\n",
       "      <td>8</td>\n",
       "      <td>2022-10-31</td>\n",
       "      <td>United Kingdom</td>\n",
       "      <td>False</td>\n",
       "      <td>lhr ham purser address club passenger name boa...</td>\n",
       "    </tr>\n",
       "    <tr>\n",
       "      <th>3463</th>\n",
       "      <td>My son who had worked for British Airways urge...</td>\n",
       "      <td>9</td>\n",
       "      <td>2022-10-31</td>\n",
       "      <td>United Kingdom</td>\n",
       "      <td>False</td>\n",
       "      <td>son worked british airway urged fly british ai...</td>\n",
       "    </tr>\n",
       "  </tbody>\n",
       "</table>\n",
       "<p>3464 rows × 6 columns</p>\n",
       "</div>"
      ],
      "text/plain": [
       "                                                reviews stars       date  \\\n",
       "0     ✅ Trip Verified | This was my first time flyin...     1 2023-01-28   \n",
       "1     ✅ Trip Verified |  Lots of cancellations and d...     9 2023-01-24   \n",
       "2     ✅ Trip Verified | BA 242 on the 6/2/23. Boardi...    10 2023-01-24   \n",
       "3     ✅ Trip Verified |  Not only my first flight in...    10 2023-01-23   \n",
       "4     ✅ Trip Verified |  My husband and myself were ...    10 2023-01-21   \n",
       "...                                                 ...   ...        ...   \n",
       "3459  Business LHR to BKK. 747-400. First try back w...     7 2022-11-07   \n",
       "3460  This was a bmi Regional operated flight on a R...     1 2022-11-05   \n",
       "3461  LHR-HKG on Boeing 747 - 23/08/12. Much has bee...    10 2022-10-31   \n",
       "3462  LHR to HAM. Purser addresses all club passenge...     8 2022-10-31   \n",
       "3463  My son who had worked for British Airways urge...     9 2022-10-31   \n",
       "\n",
       "             country  verified  \\\n",
       "0     United Kingdom      True   \n",
       "1             Canada      True   \n",
       "2     United Kingdom      True   \n",
       "3              Spain      True   \n",
       "4     United Kingdom      True   \n",
       "...              ...       ...   \n",
       "3459  United Kingdom     False   \n",
       "3460  United Kingdom     False   \n",
       "3461  United Kingdom     False   \n",
       "3462  United Kingdom     False   \n",
       "3463  United Kingdom     False   \n",
       "\n",
       "                                                 corpus  \n",
       "0     first time flying ba pleasantly surprised isla...  \n",
       "1     lot cancellation delay one apologized edinburg...  \n",
       "2     ba boarding delayed due late arrival incoming ...  \n",
       "3     first flight year also first time back england...  \n",
       "4     husband flying madrid rd february legal matter...  \n",
       "...                                                 ...  \n",
       "3459  business lhr bkk first try back ba year flown ...  \n",
       "3460  bmi regional operated flight rj manchester hea...  \n",
       "3461  lhr hkg boeing much written tired old fleet go...  \n",
       "3462  lhr ham purser address club passenger name boa...  \n",
       "3463  son worked british airway urged fly british ai...  \n",
       "\n",
       "[3464 rows x 6 columns]"
      ]
     },
     "execution_count": 131,
     "metadata": {},
     "output_type": "execute_result"
    }
   ],
   "source": [
    "#resetting the index\n",
    "df.reset_index(drop=True)"
   ]
  },
  {
   "cell_type": "code",
   "execution_count": 132,
   "id": "022e9043",
   "metadata": {},
   "outputs": [],
   "source": [
    "# export the cleaned data\n",
    "\n",
    "df.to_csv(cwd + \"/cleaned-BA-reviews.csv\")"
   ]
  },
  {
   "cell_type": "code",
   "execution_count": null,
   "id": "e321717d",
   "metadata": {},
   "outputs": [],
   "source": []
  },
  {
   "cell_type": "code",
   "execution_count": null,
   "id": "d8334984",
   "metadata": {},
   "outputs": [],
   "source": []
  }
 ],
 "metadata": {
  "kernelspec": {
   "display_name": "Python 3 (ipykernel)",
   "language": "python",
   "name": "python3"
  },
  "language_info": {
   "codemirror_mode": {
    "name": "ipython",
    "version": 3
   },
   "file_extension": ".py",
   "mimetype": "text/x-python",
   "name": "python",
   "nbconvert_exporter": "python",
   "pygments_lexer": "ipython3",
   "version": "3.9.13"
  }
 },
 "nbformat": 4,
 "nbformat_minor": 5
}
