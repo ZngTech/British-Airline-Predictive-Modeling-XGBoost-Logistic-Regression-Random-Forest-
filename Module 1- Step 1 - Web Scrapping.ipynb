{
 "cells": [
  {
   "cell_type": "code",
   "execution_count": 9,
   "id": "0df014ce",
   "metadata": {},
   "outputs": [],
   "source": [
    "##The first part of this data science task is to collect data \n",
    "##The technique of data collection is web scrappiing by using python beautifulsoup package\n",
    "##Other packages included can be numpy and pandas\n",
    "##The above mentioned 2 packages are for data wrangling\n",
    "\n",
    "\n",
    "#import\n",
    "import pandas as pd\n",
    "import numpy as np\n",
    "from bs4 import BeautifulSoup\n",
    "import requests \n",
    "\n",
    "url = 'www.airlinequality.com/airline-reviews/british-airways/page'  # replace with desired website URL\n",
    "# the newest edition BeautifulSoup for Web Scraping is \"lxml\"\n",
    "soup = BeautifulSoup(page.content, \"lxml\")"
   ]
  },
  {
   "cell_type": "code",
   "execution_count": 10,
   "id": "214b83b5",
   "metadata": {},
   "outputs": [],
   "source": [
    "# After reading the web content, I decide to create list to store key features\n",
    "# Key features selected are: reviews, stars, country and date\n",
    "#create an empty list to collect all reviews\n",
    "reviews  = []\n",
    "\n",
    "#create an empty list to collect rating stars\n",
    "stars = []\n",
    "\n",
    "#create an empty list to collect country the reviewer is from\n",
    "country = []\n",
    "\n",
    "#create an empty list to collect date the reviewer is from\n",
    "date = []"
   ]
  },
  {
   "cell_type": "code",
   "execution_count": 11,
   "id": "76af5bd2",
   "metadata": {
    "scrolled": true
   },
   "outputs": [
    {
     "name": "stdout",
     "output_type": "stream",
     "text": [
      "Error on page 29\n",
      "Error on page 31\n",
      "Error on page 31\n",
      "Error on page 33\n",
      "Error on page 34\n"
     ]
    }
   ],
   "source": [
    "for i in range(1, 36):\n",
    "    page = requests.get(f\"https://www.airlinequality.com/airline-reviews/british-airways/page/{i}/?sortby=post_date%3ADesc&pagesize=100\")\n",
    "    \n",
    "    soup = BeautifulSoup(page.content, \"lxml\")\n",
    "    \n",
    "# soup.find_all is a method int he BeautifulSoup library to search for all occurances of a particular HTML ta\n",
    "# The soup variable refers to a BeautifulSoup object, which is an object that represents the parsed HTML content of a webpage. \n",
    "# Please note lxml is the newest edition of web scrapping parser in python\n",
    "# it is compatible with complex HTML and XML\n",
    "# lxml is faster and feature-rich\n",
    "    \n",
    "    for item in soup.find_all(\"div\", class_=\"text_content\"):\n",
    "        reviews.append(item.text)\n",
    "    \n",
    "    for item in soup.find_all(\"div\", class_ = \"rating-10\"):\n",
    "        try:\n",
    "            stars.append(item.span.text)\n",
    "        except:\n",
    "            print(f\"Error on page {i}\")\n",
    "            stars.append(\"None\")\n",
    "            \n",
    "    #date\n",
    "    for item in soup.find_all(\"time\"):\n",
    "        date.append(item.text)\n",
    "        \n",
    "    #country\n",
    "    for item in soup.find_all(\"h3\"):\n",
    "        country.append(item.span.next_sibling.text.strip(\" ()\"))"
   ]
  },
  {
   "cell_type": "code",
   "execution_count": 61,
   "id": "26a59609",
   "metadata": {},
   "outputs": [
    {
     "data": {
      "text/plain": [
       "3471"
      ]
     },
     "execution_count": 61,
     "metadata": {},
     "output_type": "execute_result"
    }
   ],
   "source": [
    "#check the length of total reviews extracted\n",
    "reviews=reviews[0:3471]\n",
    "len(reviews)"
   ]
  },
  {
   "cell_type": "code",
   "execution_count": 63,
   "id": "52b51a84",
   "metadata": {},
   "outputs": [
    {
     "data": {
      "text/plain": [
       "3471"
      ]
     },
     "execution_count": 63,
     "metadata": {},
     "output_type": "execute_result"
    }
   ],
   "source": [
    "#check the length of total reviews extracted\n",
    "country=country[0:3471]\n",
    "len(country)"
   ]
  },
  {
   "cell_type": "code",
   "execution_count": 66,
   "id": "68adb264",
   "metadata": {},
   "outputs": [
    {
     "data": {
      "text/plain": [
       "3471"
      ]
     },
     "execution_count": 66,
     "metadata": {},
     "output_type": "execute_result"
    }
   ],
   "source": [
    "#check the length of stars\n",
    "stars=stars[0:3475]\n",
    "len(stars)"
   ]
  },
  {
   "cell_type": "code",
   "execution_count": 67,
   "id": "d3a79319",
   "metadata": {},
   "outputs": [
    {
     "data": {
      "text/plain": [
       "3471"
      ]
     },
     "execution_count": 67,
     "metadata": {},
     "output_type": "execute_result"
    }
   ],
   "source": [
    "# slightly trim the date list to have same size just like other lists\n",
    "date=date[0:3471]\n",
    "len(date)\n"
   ]
  },
  {
   "cell_type": "code",
   "execution_count": 65,
   "id": "bcd0f05c",
   "metadata": {},
   "outputs": [],
   "source": [
    "# Dataframe requires you that each list has the same length\n",
    "# ALready ensuring all features are in the same length, which is 3471"
   ]
  },
  {
   "cell_type": "code",
   "execution_count": 68,
   "id": "c79e533c",
   "metadata": {},
   "outputs": [],
   "source": [
    "# now try to create a dataframe\n",
    "df = pd.DataFrame({\"reviews\":reviews,\"stars\": stars, \"date\":date, \"country\": country})"
   ]
  },
  {
   "cell_type": "code",
   "execution_count": 71,
   "id": "8ae6e494",
   "metadata": {},
   "outputs": [
    {
     "data": {
      "text/html": [
       "<div>\n",
       "<style scoped>\n",
       "    .dataframe tbody tr th:only-of-type {\n",
       "        vertical-align: middle;\n",
       "    }\n",
       "\n",
       "    .dataframe tbody tr th {\n",
       "        vertical-align: top;\n",
       "    }\n",
       "\n",
       "    .dataframe thead th {\n",
       "        text-align: right;\n",
       "    }\n",
       "</style>\n",
       "<table border=\"1\" class=\"dataframe\">\n",
       "  <thead>\n",
       "    <tr style=\"text-align: right;\">\n",
       "      <th></th>\n",
       "      <th>reviews</th>\n",
       "      <th>stars</th>\n",
       "      <th>date</th>\n",
       "      <th>country</th>\n",
       "    </tr>\n",
       "  </thead>\n",
       "  <tbody>\n",
       "    <tr>\n",
       "      <th>0</th>\n",
       "      <td>✅ Trip Verified | This was my first time flyin...</td>\n",
       "      <td>1</td>\n",
       "      <td>28th January 2023</td>\n",
       "      <td>United Kingdom</td>\n",
       "    </tr>\n",
       "    <tr>\n",
       "      <th>1</th>\n",
       "      <td>✅ Trip Verified |  Lots of cancellations and d...</td>\n",
       "      <td>9</td>\n",
       "      <td>24th January 2023</td>\n",
       "      <td>Canada</td>\n",
       "    </tr>\n",
       "    <tr>\n",
       "      <th>2</th>\n",
       "      <td>✅ Trip Verified | BA 242 on the 6/2/23. Boardi...</td>\n",
       "      <td>10</td>\n",
       "      <td>24th January 2023</td>\n",
       "      <td>United Kingdom</td>\n",
       "    </tr>\n",
       "    <tr>\n",
       "      <th>3</th>\n",
       "      <td>✅ Trip Verified |  Not only my first flight in...</td>\n",
       "      <td>10</td>\n",
       "      <td>23rd January 2023</td>\n",
       "      <td>Spain</td>\n",
       "    </tr>\n",
       "    <tr>\n",
       "      <th>4</th>\n",
       "      <td>✅ Trip Verified |  My husband and myself were ...</td>\n",
       "      <td>10</td>\n",
       "      <td>21st January 2023</td>\n",
       "      <td>United Kingdom</td>\n",
       "    </tr>\n",
       "  </tbody>\n",
       "</table>\n",
       "</div>"
      ],
      "text/plain": [
       "                                             reviews stars               date  \\\n",
       "0  ✅ Trip Verified | This was my first time flyin...     1  28th January 2023   \n",
       "1  ✅ Trip Verified |  Lots of cancellations and d...     9  24th January 2023   \n",
       "2  ✅ Trip Verified | BA 242 on the 6/2/23. Boardi...    10  24th January 2023   \n",
       "3  ✅ Trip Verified |  Not only my first flight in...    10  23rd January 2023   \n",
       "4  ✅ Trip Verified |  My husband and myself were ...    10  21st January 2023   \n",
       "\n",
       "          country  \n",
       "0  United Kingdom  \n",
       "1          Canada  \n",
       "2  United Kingdom  \n",
       "3           Spain  \n",
       "4  United Kingdom  "
      ]
     },
     "execution_count": 71,
     "metadata": {},
     "output_type": "execute_result"
    }
   ],
   "source": [
    "df.head()"
   ]
  },
  {
   "cell_type": "code",
   "execution_count": 72,
   "id": "441c75e4",
   "metadata": {},
   "outputs": [
    {
     "data": {
      "text/plain": [
       "(3471, 4)"
      ]
     },
     "execution_count": 72,
     "metadata": {},
     "output_type": "execute_result"
    }
   ],
   "source": [
    "df.shape"
   ]
  },
  {
   "cell_type": "code",
   "execution_count": 75,
   "id": "3c81f305",
   "metadata": {},
   "outputs": [],
   "source": [
    "#Export the data into a csv format\n",
    "import os\n",
    "\n",
    "cwd = os.getcwd()\n",
    "df.to_csv(cwd+ \"/BA_reviews.csv\")"
   ]
  },
  {
   "cell_type": "code",
   "execution_count": null,
   "id": "0604987e",
   "metadata": {},
   "outputs": [],
   "source": []
  }
 ],
 "metadata": {
  "kernelspec": {
   "display_name": "Python 3 (ipykernel)",
   "language": "python",
   "name": "python3"
  },
  "language_info": {
   "codemirror_mode": {
    "name": "ipython",
    "version": 3
   },
   "file_extension": ".py",
   "mimetype": "text/x-python",
   "name": "python",
   "nbconvert_exporter": "python",
   "pygments_lexer": "ipython3",
   "version": "3.9.13"
  }
 },
 "nbformat": 4,
 "nbformat_minor": 5
}
